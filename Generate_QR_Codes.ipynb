{
  "nbformat": 4,
  "nbformat_minor": 0,
  "metadata": {
    "colab": {
      "provenance": [],
      "authorship_tag": "ABX9TyMVIgzvWo0of+K/FIUs3jAt",
      "include_colab_link": true
    },
    "kernelspec": {
      "name": "python3",
      "display_name": "Python 3"
    },
    "language_info": {
      "name": "python"
    }
  },
  "cells": [
    {
      "cell_type": "markdown",
      "metadata": {
        "id": "view-in-github",
        "colab_type": "text"
      },
      "source": [
        "<a href=\"https://colab.research.google.com/github/DataBaeDev/Python-Odds-and-Ends/blob/main/Generate_QR_Codes.ipynb\" target=\"_parent\"><img src=\"https://colab.research.google.com/assets/colab-badge.svg\" alt=\"Open In Colab\"/></a>"
      ]
    },
    {
      "cell_type": "markdown",
      "source": [
        "## Make a basic QR Code\n",
        "\n",
        "qrcode documentation: https://pypi.org/project/qrcode/"
      ],
      "metadata": {
        "id": "AS6Z930iUuiF"
      }
    },
    {
      "cell_type": "code",
      "execution_count": null,
      "metadata": {
        "id": "unABJOUlSw-x"
      },
      "outputs": [],
      "source": [
        "! pip install qrcode"
      ]
    },
    {
      "cell_type": "code",
      "source": [
        "import qrcode\n",
        "\n",
        "# direct the code to my github account\n",
        "img = qrcode.make('https://github.com/DataBaeDev')\n",
        "\n",
        "# save the image\n",
        "img.save(\"github_qrcode.png\")\n"
      ],
      "metadata": {
        "id": "4wnXHdWRTO7E"
      },
      "execution_count": 3,
      "outputs": []
    },
    {
      "cell_type": "markdown",
      "source": [
        "Below is the generated code:\n",
        "\n",
        "![github_qrcode.png](data:image/png;base64,iVBORw0KGgoAAAANSUhEUgAAAXIAAAFyAQAAAADAX2ykAAACbElEQVR4nO2bTWrkMBCFX40MXqohB+ijyDcb5mb2UfoAA9IyIPNmUZLtOBlCwBGtmdKiu5G+RUHx6k9qIb6ylh9fwgHjjTfeeOONN/5vvJQ1AMsNkCkNAJIIkOrZ1NAe46/iB/0KMwCkFyBEgECGwBMAXAYASBt7jP8ePlWFLiIiUxLhDEAmACrstvYYfw0/vNvxvwcud0I2zba0x/hr+Xf+DY+hBun0koHU1h7jv4f3ZA3IjgBWEbm/qoBJ5tb2GH8pv4iIyK1sypRGIjxGyoRVy+e29hh/EQ9+tGafoZo+Hzyb/cZ/skiSCMzgrKHZESE6IlRPm3/75YvzZjhyVsFmAFW/CLEcFHc/m/3Gf7J2/QJwJKPTSouMgDp548y/nfKLDFoml6rZkzKhOjnE1vYYfxG/6Zc168biVY3K0MCdYfG5S34rnvaCeet1PXkuos2/nfJ6YTQAi4y13AKA8LD7o575Ep+1K+JeSx3bpUOTZPrtjD/EZ1Ut494p1caYNP92yh/zrw45fM2/u5yt/+2clymN5C8ZS0DW1hdQd8vPuNr8uU++6jfuv9xxagVfhG367ZKv/W/caik41oS7RerorD/qkz/fH5W9WEJzHXzA9Nsnr+83anZ1mcvkMuAJCREUfcTh88A29hh/LX+YT2rqhc9Fv4x7T2zxuXO+vp8kH6NOJUXuWR92IPDV6ud/gy9eva3COYlo6l1k1Ouk57ff+Lfr/H5y/zuhBK6DZuKG9hh/LX/Ovzpr1tHz/ojD5pO98tv9AgBs769KkeXqgd0v9MprfN6jMutHcfKb/Qb2GG+88cYbb/z/wP8B+zE8NdJ5RvwAAAAASUVORK5CYII=)"
      ],
      "metadata": {
        "id": "799_9L1NWrAg"
      }
    },
    {
      "cell_type": "markdown",
      "source": [
        "## Make a Styled QR Code using Segno\n",
        "\n",
        "Segno documentation: https://segno.readthedocs.io/en/latest/index.html"
      ],
      "metadata": {
        "id": "h-EtI5xBYdhz"
      }
    },
    {
      "cell_type": "code",
      "source": [
        "!pip install segno"
      ],
      "metadata": {
        "id": "kstDu8yAXBOi"
      },
      "execution_count": null,
      "outputs": []
    },
    {
      "cell_type": "code",
      "source": [
        "import segno\n",
        "\n",
        "qrcode = segno.make('https://github.com/DataBaeDev', error='h')\n",
        "qrcode.save(\n",
        "    \"styled_github_qrcode.png\",\n",
        "    scale=5,  #increase size\n",
        "    border=7, # implement a light-colored border\n",
        "    light=\"#c69d84ff\",\n",
        "    dark=\"#5e3023ff\"\n",
        ")\n"
      ],
      "metadata": {
        "id": "ty_dor02YbjT"
      },
      "execution_count": 6,
      "outputs": []
    },
    {
      "cell_type": "markdown",
      "source": [
        "Below is the generated code:\n",
        "\n",
        "![styled_github_qrcode.png](data:image/png;base64,iVBORw0KGgoAAAANSUhEUgAAAOsAAADrAQMAAACyxPOWAAAABlBMVEVeMCPGnYQ7XTGCAAABt0lEQVR42u1YO4rDMBQcbwqVPoJuEl8sIEMuZt/ER3CpwuTtjJRlq13YYmEKGRKQXzM8zec9I357DozyKI/yKP9cPgDcAktcwHQ+UHnuhQ/8+vxruSPg73mkOJHTC7ejLv2dA7SK+RnpNa+Z+G5R78TnBA1TrLlOOtpBI9cyMHtBa1yrd+KL/SzhxDUptEF7//kotPtIvHhsMv1+ZwCNqHLa5ouoTvZviiv7QOtGm2m5RYR7ZBeuiWFEBZnHRZCzTddoaSHLje67rYku5rEro3Y53CIb8TGPkAIQO+8ykWZ895apQxpM1CWvsQRbR5oZySDkG+kt0yLCXTZdWyROMQyLguo+u1iuZFCUUYQm82isM4FGhj2bFiTTFbHhYXShhXfZRzWmgRHXOKWtIPk5tGkGAfEdPlzjDXbf6OFgE1S8UG4Einc5XMTmk6FtI1CGdq2Kay4KhboWEufXU8Jqym173tLnXZ95DW2FohbUP5nvmq22973N3mZc0x7aMwotrbSWWq3I2o6h7bjCbHtPSs4eCU6TB7mmrvFCW2RtPtDa9zXOG20FXdG14ONr44voKI/yKP+h/AlZ+8AtpxaBpwAAAABJRU5ErkJggg==)"
      ],
      "metadata": {
        "id": "ere2lLzVbNeP"
      }
    }
  ]
}