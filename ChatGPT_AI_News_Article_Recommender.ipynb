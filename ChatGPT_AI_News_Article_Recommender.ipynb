{
  "cells": [
    {
      "cell_type": "markdown",
      "metadata": {
        "id": "view-in-github",
        "colab_type": "text"
      },
      "source": [
        "<a href=\"https://colab.research.google.com/github/DataBaeDev/Python-Odds-and-Ends/blob/main/ChatGPT_AI_News_Article_Recommender.ipynb\" target=\"_parent\"><img src=\"https://colab.research.google.com/assets/colab-badge.svg\" alt=\"Open In Colab\"/></a>"
      ]
    },
    {
      "cell_type": "markdown",
      "source": [
        "# ChatGPT AI News Article Recommender\n",
        "\n",
        "This tool asks ChatGPT to recommend the top 5 AI articles for data analysts and software engineers from yesterday's news"
      ],
      "metadata": {
        "id": "X6-tFYt8NPyg"
      }
    },
    {
      "cell_type": "markdown",
      "metadata": {
        "id": "ToDp2e0FXfn9"
      },
      "source": [
        "## Install and Import Package(s)"
      ]
    },
    {
      "cell_type": "code",
      "execution_count": null,
      "metadata": {
        "id": "6aLQw4dWkVMi"
      },
      "outputs": [],
      "source": [
        "%pip install openai\n",
        "%pip install newsapi-python"
      ]
    },
    {
      "cell_type": "code",
      "execution_count": null,
      "metadata": {
        "id": "KqeyvB3xBN10"
      },
      "outputs": [],
      "source": [
        "from openai import OpenAI\n",
        "from newsapi import NewsApiClient\n",
        "from datetime import datetime as dt, timedelta\n",
        "import requests\n",
        "from google.colab import userdata"
      ]
    },
    {
      "cell_type": "markdown",
      "source": [
        "## Import API Keys and Initialize Clients"
      ],
      "metadata": {
        "id": "C0RIn9ktLrOC"
      }
    },
    {
      "cell_type": "code",
      "execution_count": null,
      "metadata": {
        "id": "BgQ5nmLHlEYf"
      },
      "outputs": [],
      "source": [
        "openai_tech16_key = userdata.get('openai_tech16_key')\n",
        "news_api_key = userdata.get('news_api')"
      ]
    },
    {
      "cell_type": "code",
      "execution_count": null,
      "metadata": {
        "id": "44w1SwNbBem6"
      },
      "outputs": [],
      "source": [
        "openAI_client = OpenAI(api_key= openai_tech16_key)\n",
        "newsapi_client = NewsApiClient(api_key=news_api_key)"
      ]
    },
    {
      "cell_type": "markdown",
      "source": [
        "## Get the top 50 most popular Artificial Intelligence news articles from yesterday using the News API"
      ],
      "metadata": {
        "id": "IQY1F1wlL0lz"
      }
    },
    {
      "cell_type": "code",
      "source": [
        "yesterday = dt.today() - timedelta(days=1)\n",
        "yesterday = yesterday.strftime('%Y-%m-%d')"
      ],
      "metadata": {
        "id": "NWxvzRydKRZ2"
      },
      "execution_count": null,
      "outputs": []
    },
    {
      "cell_type": "code",
      "execution_count": null,
      "metadata": {
        "id": "nXWW7VA1zkPW"
      },
      "outputs": [],
      "source": [
        "url =  f'https://newsapi.org/v2/everything?q=\"AI\"OR\"Artificial Intelligence\"&searchIn=description&from={yesterday}&to={yesterday}&language=en&sortBy=popularity&apiKey={news_api_key}'"
      ]
    },
    {
      "cell_type": "code",
      "execution_count": null,
      "metadata": {
        "id": "F0Xa9O_b74g4"
      },
      "outputs": [],
      "source": [
        "news_response = requests.get(url).json()\n",
        "num_of_articles = news_response['totalResults']"
      ]
    },
    {
      "cell_type": "code",
      "execution_count": null,
      "metadata": {
        "id": "C-FHb9zb7h8g"
      },
      "outputs": [],
      "source": [
        "article_dict = {}\n",
        "\n",
        "for article in news_response['articles'][:49]:\n",
        "    if article['title'] != \"[Removed]\":\n",
        "      article_dict[article['title']] = (article['source']['name'], article['description'])\n",
        "\n",
        "#print(article_dict)"
      ]
    },
    {
      "cell_type": "markdown",
      "source": [
        "## Use ChatGPT to select the 5 most important articles for someone working in data analytics or software engineering"
      ],
      "metadata": {
        "id": "IJwEAKhZMJHa"
      }
    },
    {
      "cell_type": "code",
      "execution_count": null,
      "metadata": {
        "colab": {
          "base_uri": "https://localhost:8080/"
        },
        "id": "2PAC3M6TDuIt",
        "outputId": "264c52af-8465-4d59-bdd7-7178e1bd91b4"
      },
      "outputs": [
        {
          "output_type": "stream",
          "name": "stdout",
          "text": [
            "Based on the provided JSON, the 5 most important artificial intelligence articles for someone who works in data analytics or software engineering are:\n",
            "\n",
            "1. \"Tinder's new AI will pick your most attractive photos for you\": Yahoo Entertainment\n",
            "   Explanation: This article is relevant as it highlights the application of AI in selecting the best photos for a user's Tinder profile, demonstrating AI's potential in image analysis and decision-making.\n",
            "\n",
            "2. \"Microsoft releases iOS and Android apps for Designer, its AI-powered Canva competitor\": Yahoo Entertainment\n",
            "   Explanation: This article is pertinent for data analytics and software engineering professionals as it focuses on the release of an AI-powered image generation platform by Microsoft, showcasing advancements in AI technology.\n",
            "\n",
            "3. \"The Morning After: AI models from Apple, NVIDIA and more were reportedly trained on YouTube videos\": Yahoo Entertainment\n",
            "   Explanation: This article is crucial as it discusses the use of YouTube video transcripts for training AI models by major tech companies, shedding light on data sources for AI training and the ethical considerations involved.\n",
            "\n",
            "4. \"Spotify launches a new voice and language for its AI DJ\": The Verge\n",
            "   Explanation: This article is relevant as it reveals the expansion of Spotify's AI DJ tool into select Latin American and Spanish markets, demonstrating the application of AI in language and music preferences analysis.\n",
            "\n",
            "5. \"Samsung’s new image-generating AI tool is a little too good\": The Verge\n",
            "   Explanation: This article is important for professionals in data analytics and software engineering as it highlights Samsung's AI-based \"sketch to image\" feature, showcasing AI's capabilities in image generation.\n",
            "\n",
            "The other articles did not belong in the top 5 as they were either too specific to certain products or companies, focused on non-AI related topics, or were not directly related to data analytics or software engineering. For example, articles about dating apps, hacking incidents, Quantum computers, and gaming technologies were not as directly relevant to professionals in data analytics or software engineering.\n"
          ]
        }
      ],
      "source": [
        "open_ai_response = openAI_client.chat.completions.create(\n",
        "  model=\"gpt-3.5-turbo-1106\",\n",
        "  messages=[\n",
        "    {\"role\": \"system\", \"content\": \"\"\"From the provided json, select the 5 most important artificial intelligence articles\n",
        "    for someone who works in data analytics or software engineering. Be sure to include the news source in your answer. Also\n",
        "    explain why some of the other articles did not belong in the top 5.\"\"\"},\n",
        "    {\"role\": \"user\", \"content\":f\"{article_dict}\"}\n",
        "  ]\n",
        ")\n",
        "\n",
        "print(open_ai_response.choices[0].message.content)"
      ]
    }
  ],
  "metadata": {
    "colab": {
      "provenance": [],
      "include_colab_link": true
    },
    "kernelspec": {
      "display_name": "Python 3",
      "name": "python3"
    },
    "language_info": {
      "name": "python"
    }
  },
  "nbformat": 4,
  "nbformat_minor": 0
}