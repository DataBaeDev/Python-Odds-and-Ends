{
  "cells": [
    {
      "cell_type": "markdown",
      "metadata": {
        "id": "view-in-github",
        "colab_type": "text"
      },
      "source": [
        "<a href=\"https://colab.research.google.com/github/DataBaeDev/Python-Odds-and-Ends/blob/main/Custom_Dates.ipynb\" target=\"_parent\"><img src=\"https://colab.research.google.com/assets/colab-badge.svg\" alt=\"Open In Colab\"/></a>"
      ]
    },
    {
      "cell_type": "markdown",
      "source": [
        "# Creating and Formatting Custom Dates Using Python"
      ],
      "metadata": {
        "id": "ismsR3ushM2G"
      },
      "id": "ismsR3ushM2G"
    },
    {
      "cell_type": "code",
      "execution_count": 1,
      "id": "50ab3452",
      "metadata": {
        "id": "50ab3452"
      },
      "outputs": [],
      "source": [
        "# import library\n",
        "import datetime as dt"
      ]
    },
    {
      "cell_type": "markdown",
      "source": [
        "## Today"
      ],
      "metadata": {
        "id": "_OZZsopShxQk"
      },
      "id": "_OZZsopShxQk"
    },
    {
      "cell_type": "code",
      "source": [
        "currentday = dt.date.today()\n",
        "print('Today is ',currentday)"
      ],
      "metadata": {
        "colab": {
          "base_uri": "https://localhost:8080/"
        },
        "id": "YI4-zOXue9fc",
        "outputId": "d114f887-d155-4637-91ea-59708fc72be9"
      },
      "id": "YI4-zOXue9fc",
      "execution_count": 2,
      "outputs": [
        {
          "output_type": "stream",
          "name": "stdout",
          "text": [
            "Today is  2024-06-28\n"
          ]
        }
      ]
    },
    {
      "cell_type": "markdown",
      "source": [
        "## Date Formatting"
      ],
      "metadata": {
        "id": "TOT4vnBsh3jP"
      },
      "id": "TOT4vnBsh3jP"
    },
    {
      "cell_type": "code",
      "source": [
        "mm_dd_yy = currentday.strftime(\"%m-%d-%y\")\n",
        "print(\"mm-dd-yy: \", mm_dd_yy)"
      ],
      "metadata": {
        "colab": {
          "base_uri": "https://localhost:8080/"
        },
        "id": "2zJnSMdVh77V",
        "outputId": "1c799050-fb74-44e9-d3d2-dae32920f66a"
      },
      "id": "2zJnSMdVh77V",
      "execution_count": 3,
      "outputs": [
        {
          "output_type": "stream",
          "name": "stdout",
          "text": [
            "mm-dd-yy:  06-28-24\n"
          ]
        }
      ]
    },
    {
      "cell_type": "code",
      "source": [
        "mm_dd_yyyy = currentday.strftime(\"%m-%d-%Y\")\n",
        "print(\"mm-dd-yyyy: \", mm_dd_yyyy)"
      ],
      "metadata": {
        "colab": {
          "base_uri": "https://localhost:8080/"
        },
        "id": "-_R7dI59i9Zh",
        "outputId": "b5942367-af0e-4051-c11f-7a480762661f"
      },
      "id": "-_R7dI59i9Zh",
      "execution_count": 4,
      "outputs": [
        {
          "output_type": "stream",
          "name": "stdout",
          "text": [
            "mm-dd-yyyy:  06-28-2024\n"
          ]
        }
      ]
    },
    {
      "cell_type": "code",
      "source": [
        "weekday = currentday.strftime(\"%A\")\n",
        "print('Weekday: ', weekday)"
      ],
      "metadata": {
        "colab": {
          "base_uri": "https://localhost:8080/"
        },
        "id": "4zvYpxvHjnaT",
        "outputId": "7af0ab93-4940-438d-afcb-aeafc9736899"
      },
      "id": "4zvYpxvHjnaT",
      "execution_count": 5,
      "outputs": [
        {
          "output_type": "stream",
          "name": "stdout",
          "text": [
            "Weekday:  Friday\n"
          ]
        }
      ]
    },
    {
      "cell_type": "code",
      "source": [
        "weekday = currentday.strftime(\"%a\")\n",
        "print('Weekday abbreviation: ', weekday)"
      ],
      "metadata": {
        "colab": {
          "base_uri": "https://localhost:8080/"
        },
        "id": "5lS6IhCBjKaD",
        "outputId": "b86aca17-9a9c-493b-8188-472fe6c8dfa4"
      },
      "id": "5lS6IhCBjKaD",
      "execution_count": 6,
      "outputs": [
        {
          "output_type": "stream",
          "name": "stdout",
          "text": [
            "Weekday abbreviation:  Fri\n"
          ]
        }
      ]
    },
    {
      "cell_type": "code",
      "source": [
        "month_name = currentday.strftime(\"%B\")\n",
        "print('Month name: ', month_name)"
      ],
      "metadata": {
        "colab": {
          "base_uri": "https://localhost:8080/"
        },
        "id": "5_jl7fgNkCMN",
        "outputId": "79c166d1-87b3-4ac7-f025-78aedb5f920c"
      },
      "id": "5_jl7fgNkCMN",
      "execution_count": 7,
      "outputs": [
        {
          "output_type": "stream",
          "name": "stdout",
          "text": [
            "Month name:  June\n"
          ]
        }
      ]
    },
    {
      "cell_type": "code",
      "source": [
        "month_abbrev = currentday.strftime(\"%b\")\n",
        "print('Month abbreviation: ', month_abbrev)"
      ],
      "metadata": {
        "colab": {
          "base_uri": "https://localhost:8080/"
        },
        "id": "23j6ADFcjvMj",
        "outputId": "b10e4f9f-173f-4531-f4e5-f84cee5aca09"
      },
      "id": "23j6ADFcjvMj",
      "execution_count": 8,
      "outputs": [
        {
          "output_type": "stream",
          "name": "stdout",
          "text": [
            "Month abbreviation:  Jun\n"
          ]
        }
      ]
    },
    {
      "cell_type": "markdown",
      "id": "dc441849",
      "metadata": {
        "id": "dc441849"
      },
      "source": [
        "## Calendar Year Dates"
      ]
    },
    {
      "cell_type": "code",
      "source": [
        "first_of_this_yr = dt.date(dt.date.today().year, 1, 1)\n",
        "print('First of this year: ', first_of_this_yr)"
      ],
      "metadata": {
        "colab": {
          "base_uri": "https://localhost:8080/"
        },
        "id": "lf9UBmDwfGX2",
        "outputId": "61e6348e-a15e-4980-8586-50e3f4e66955"
      },
      "id": "lf9UBmDwfGX2",
      "execution_count": 9,
      "outputs": [
        {
          "output_type": "stream",
          "name": "stdout",
          "text": [
            "First of this year:  2024-01-01\n"
          ]
        }
      ]
    },
    {
      "cell_type": "code",
      "source": [
        "first_of_this_mo = dt.date.today().replace(day=1)\n",
        "print('First of this month: ', first_of_this_mo)"
      ],
      "metadata": {
        "colab": {
          "base_uri": "https://localhost:8080/"
        },
        "id": "YAKuSM72fIjA",
        "outputId": "a978cb5e-f255-46bb-b929-74036a786e8d"
      },
      "id": "YAKuSM72fIjA",
      "execution_count": 10,
      "outputs": [
        {
          "output_type": "stream",
          "name": "stdout",
          "text": [
            "First of this month:  2024-06-01\n"
          ]
        }
      ]
    },
    {
      "cell_type": "code",
      "source": [
        "end_of_last_mo = first_of_this_mo - dt.timedelta(days=1)\n",
        "print('End of last month: ', end_of_last_mo)"
      ],
      "metadata": {
        "colab": {
          "base_uri": "https://localhost:8080/"
        },
        "id": "APLXOQk7fyf7",
        "outputId": "f8427bf1-2ee5-4fd0-8476-f689775461d7"
      },
      "id": "APLXOQk7fyf7",
      "execution_count": 11,
      "outputs": [
        {
          "output_type": "stream",
          "name": "stdout",
          "text": [
            "End of last month:  2024-05-31\n"
          ]
        }
      ]
    },
    {
      "cell_type": "code",
      "source": [
        "first_of_last_mo = first_of_this_mo - dt.timedelta(days=end_of_last_mo.day)\n",
        "print('First of last month: ', first_of_last_mo)"
      ],
      "metadata": {
        "colab": {
          "base_uri": "https://localhost:8080/"
        },
        "id": "g1eUe41Pf92p",
        "outputId": "5da94b8d-1a9f-4e86-8915-3fbc1c18fc00"
      },
      "id": "g1eUe41Pf92p",
      "execution_count": 12,
      "outputs": [
        {
          "output_type": "stream",
          "name": "stdout",
          "text": [
            "First of last month:  2024-05-01\n"
          ]
        }
      ]
    },
    {
      "cell_type": "code",
      "source": [
        "end_of_last_mo_1 = first_of_last_mo - dt.timedelta(days=1) #end of month before last\n",
        "print('End of month before last ', end_of_last_mo_1)"
      ],
      "metadata": {
        "colab": {
          "base_uri": "https://localhost:8080/"
        },
        "id": "wM1hIApbgBe-",
        "outputId": "2744df38-5095-4786-aab5-4f764aa51680"
      },
      "id": "wM1hIApbgBe-",
      "execution_count": 13,
      "outputs": [
        {
          "output_type": "stream",
          "name": "stdout",
          "text": [
            "End of month before last  2024-04-30\n"
          ]
        }
      ]
    },
    {
      "cell_type": "code",
      "source": [
        "week_ago_today = currentday - dt.timedelta(weeks=1)\n",
        "print('One week ago today: ', week_ago_today)"
      ],
      "metadata": {
        "colab": {
          "base_uri": "https://localhost:8080/"
        },
        "id": "fJDvpXtNgDcM",
        "outputId": "a4417bdf-4af2-4d06-e4ba-1fac54a4af65"
      },
      "id": "fJDvpXtNgDcM",
      "execution_count": 14,
      "outputs": [
        {
          "output_type": "stream",
          "name": "stdout",
          "text": [
            "One week ago today:  2024-06-21\n"
          ]
        }
      ]
    },
    {
      "cell_type": "code",
      "source": [
        "first_of_this_wk = currentday - dt.timedelta(days=currentday.weekday()+1)  ##Sunday\n",
        "print('First day of this week (Sunday): ', first_of_this_wk)\n"
      ],
      "metadata": {
        "colab": {
          "base_uri": "https://localhost:8080/"
        },
        "id": "LM1-vustgMuG",
        "outputId": "3572492a-ad60-4244-df39-3cae5f07aa59"
      },
      "id": "LM1-vustgMuG",
      "execution_count": 15,
      "outputs": [
        {
          "output_type": "stream",
          "name": "stdout",
          "text": [
            "First day of this week (Sunday):  2024-06-23\n"
          ]
        }
      ]
    },
    {
      "cell_type": "code",
      "source": [
        "first_of_last_wk = first_of_this_wk - dt.timedelta(weeks=1)  ##Sunday\n",
        "print('First day of last week (Sunday): ', first_of_last_wk)"
      ],
      "metadata": {
        "colab": {
          "base_uri": "https://localhost:8080/"
        },
        "id": "qOT8l4e8gKg8",
        "outputId": "51730ae6-7d94-49e4-b1b9-04751999d2eb"
      },
      "id": "qOT8l4e8gKg8",
      "execution_count": 16,
      "outputs": [
        {
          "output_type": "stream",
          "name": "stdout",
          "text": [
            "First day of last week (Sunday):  2024-06-16\n"
          ]
        }
      ]
    },
    {
      "cell_type": "code",
      "source": [
        "end_of_last_wk = first_of_last_wk + dt.timedelta(days=6)\n",
        "print('End of Last Week (Saturday): ', end_of_last_wk)"
      ],
      "metadata": {
        "colab": {
          "base_uri": "https://localhost:8080/"
        },
        "id": "YYIkOV-ugg2x",
        "outputId": "b5e8c91e-2e57-4476-b363-31dad5d9f38e"
      },
      "id": "YYIkOV-ugg2x",
      "execution_count": 17,
      "outputs": [
        {
          "output_type": "stream",
          "name": "stdout",
          "text": [
            "End of Last Week (Saturday):  2024-06-22\n"
          ]
        }
      ]
    },
    {
      "cell_type": "code",
      "source": [
        "last_mo_name = end_of_last_mo.strftime('%B')\n",
        "print('Last month nameL ', last_mo_name)"
      ],
      "metadata": {
        "colab": {
          "base_uri": "https://localhost:8080/"
        },
        "id": "3EcP3MWkgk-H",
        "outputId": "ed796060-97f0-4ac9-825a-808df5dbd20d"
      },
      "id": "3EcP3MWkgk-H",
      "execution_count": 18,
      "outputs": [
        {
          "output_type": "stream",
          "name": "stdout",
          "text": [
            "Last month nameL  May\n"
          ]
        }
      ]
    },
    {
      "cell_type": "code",
      "execution_count": 19,
      "id": "90aaa14f",
      "metadata": {
        "scrolled": true,
        "colab": {
          "base_uri": "https://localhost:8080/"
        },
        "id": "90aaa14f",
        "outputId": "25ee990b-34fb-453b-a92e-2ee148fb0bc1"
      },
      "outputs": [
        {
          "output_type": "stream",
          "name": "stdout",
          "text": [
            "Last month yr:  2024\n"
          ]
        }
      ],
      "source": [
        "last_mo_year = end_of_last_mo.year\n",
        "print('Last month yr: ', last_mo_year)"
      ]
    },
    {
      "cell_type": "markdown",
      "id": "25fbd40a",
      "metadata": {
        "id": "25fbd40a"
      },
      "source": [
        "## Fiscal Year Dates\n",
        "For fiscal years that run from July-June"
      ]
    },
    {
      "cell_type": "code",
      "source": [
        "### Fiscal Year Start\n",
        "fiscal_yr_start = currentday\n",
        "if currentday.month >= 7:\n",
        "    fiscal_yr_start = dt.date(dt.date.today().year, 7, 1)\n",
        "else:\n",
        "    fiscal_yr_start = dt.date(fiscal_yr_start.year-1, 7, 1)\n",
        "\n",
        "print('Current Fiscal year start ', fiscal_yr_start)"
      ],
      "metadata": {
        "colab": {
          "base_uri": "https://localhost:8080/"
        },
        "id": "n2iAbCMslDxg",
        "outputId": "5fe160b1-78ae-4b5b-bdab-585cb80e6755"
      },
      "id": "n2iAbCMslDxg",
      "execution_count": 20,
      "outputs": [
        {
          "output_type": "stream",
          "name": "stdout",
          "text": [
            "Current Fiscal year start  2023-07-01\n"
          ]
        }
      ]
    },
    {
      "cell_type": "code",
      "source": [
        "Q1_start  = dt.date(fiscal_yr_start.year, 7, 1)\n",
        "print('Q1 start: ', Q1_start)\n",
        "\n",
        "Q1_end = dt.date(fiscal_yr_start.year, 9, 30)\n",
        "print('Q1 end: ', Q1_end)"
      ],
      "metadata": {
        "colab": {
          "base_uri": "https://localhost:8080/"
        },
        "id": "UE6OGYyIlFiO",
        "outputId": "ba1c6350-f157-4630-b77e-cc4f68577766"
      },
      "id": "UE6OGYyIlFiO",
      "execution_count": 21,
      "outputs": [
        {
          "output_type": "stream",
          "name": "stdout",
          "text": [
            "Q1 start:  2023-07-01\n",
            "Q1 end:  2023-09-30\n"
          ]
        }
      ]
    },
    {
      "cell_type": "code",
      "source": [
        "Q2_start  = dt.date(fiscal_yr_start.year, 10, 1)\n",
        "print('Q2 start ', Q2_start)\n",
        "\n",
        "Q2_end = dt.date(fiscal_yr_start.year, 12, 31)\n",
        "print('Q2 end ', Q2_end)"
      ],
      "metadata": {
        "colab": {
          "base_uri": "https://localhost:8080/"
        },
        "id": "7eEwEBQnlKzh",
        "outputId": "b39b0fad-003c-4975-c363-50fb3c0c4836"
      },
      "id": "7eEwEBQnlKzh",
      "execution_count": 22,
      "outputs": [
        {
          "output_type": "stream",
          "name": "stdout",
          "text": [
            "Q2 start  2023-10-01\n",
            "Q2 end  2023-12-31\n"
          ]
        }
      ]
    },
    {
      "cell_type": "code",
      "source": [
        "Q3_start  = dt.date(fiscal_yr_start.year+1, 1, 1)\n",
        "print('Q3 start ', Q3_start)\n",
        "\n",
        "Q3_end = dt.date(fiscal_yr_start.year+1, 3, 30)\n",
        "print('Q3 end ', Q3_end)"
      ],
      "metadata": {
        "colab": {
          "base_uri": "https://localhost:8080/"
        },
        "id": "qj3ax45OlNIb",
        "outputId": "2477d162-a1e8-493d-9471-f0c4b55d87b7"
      },
      "id": "qj3ax45OlNIb",
      "execution_count": 23,
      "outputs": [
        {
          "output_type": "stream",
          "name": "stdout",
          "text": [
            "Q3 start  2024-01-01\n",
            "Q3 end  2024-03-30\n"
          ]
        }
      ]
    },
    {
      "cell_type": "code",
      "execution_count": 24,
      "id": "b90601ed",
      "metadata": {
        "colab": {
          "base_uri": "https://localhost:8080/"
        },
        "id": "b90601ed",
        "outputId": "83962097-945e-4656-98c3-cbcb518520d6"
      },
      "outputs": [
        {
          "output_type": "stream",
          "name": "stdout",
          "text": [
            "Q4 start  2024-04-01\n",
            "Q4 end  2024-06-30\n"
          ]
        }
      ],
      "source": [
        "Q4_start  = dt.date(fiscal_yr_start.year+1, 4, 1)\n",
        "print('Q4 start ', Q4_start)\n",
        "\n",
        "Q4_end = dt.date(fiscal_yr_start.year+1, 6, 30)\n",
        "print('Q4 end ', Q4_end)"
      ]
    }
  ],
  "metadata": {
    "kernelspec": {
      "display_name": "Python 3 (ipykernel)",
      "language": "python",
      "name": "python3"
    },
    "language_info": {
      "codemirror_mode": {
        "name": "ipython",
        "version": 3
      },
      "file_extension": ".py",
      "mimetype": "text/x-python",
      "name": "python",
      "nbconvert_exporter": "python",
      "pygments_lexer": "ipython3",
      "version": "3.9.13"
    },
    "colab": {
      "provenance": [],
      "include_colab_link": true
    }
  },
  "nbformat": 4,
  "nbformat_minor": 5
}